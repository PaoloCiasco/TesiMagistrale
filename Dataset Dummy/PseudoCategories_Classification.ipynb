{
 "cells": [
  {
   "cell_type": "markdown",
   "metadata": {},
   "source": [
    "# Analisi Dataset Dummy #"
   ]
  },
  {
   "cell_type": "markdown",
   "metadata": {},
   "source": [
    "#### Libraries Import ####"
   ]
  },
  {
   "cell_type": "code",
   "execution_count": 1,
   "metadata": {},
   "outputs": [],
   "source": [
    "import pandas as pd\n",
    "from langdetect import detect\n",
    "from IPython.display import display\n",
    "from collections import Counter\n",
    "import matplotlib.pyplot as plt\n",
    "import numpy as np\n",
    "\n"
   ]
  },
  {
   "cell_type": "markdown",
   "metadata": {},
   "source": [
    "#### DataSet Reading ####"
   ]
  },
  {
   "cell_type": "code",
   "execution_count": 2,
   "metadata": {},
   "outputs": [],
   "source": [
    "df = pd.read_csv('C:/Users/Paolo/Documents/dati pseudo/data.csv', sep='___', engine='python')\n"
   ]
  },
  {
   "cell_type": "markdown",
   "metadata": {},
   "source": [
    "#### Check language of the news ####"
   ]
  },
  {
   "cell_type": "code",
   "execution_count": 246,
   "metadata": {},
   "outputs": [
    {
     "name": "stdout",
     "output_type": "stream",
     "text": [
      "Total News:  1034\n",
      "Italian News:  74\n",
      "English News:  936\n",
      "Foreign News:  24\n"
     ]
    }
   ],
   "source": [
    "\n",
    "total_news = 0\n",
    "en_news = 0\n",
    "it_news = 0\n",
    "foreign_news = 0\n",
    "\n",
    "\n",
    "for news in df['news']:\n",
    "    if(detect(news) == 'en'):\n",
    "        en_news += 1\n",
    "        total_news += 1\n",
    "    if(detect(news) == 'it'):\n",
    "        it_news += 1\n",
    "        total_news += 1   \n",
    "    if(detect(news) != 'en' and detect(news) != 'it'):\n",
    "        foreign_news += 1\n",
    "        total_news += 1\n",
    "\n",
    "\n",
    "print('Total News: ', total_news )\n",
    "print('Italian News: ', it_news)\n",
    "print('English News: ', en_news)\n",
    "print('Foreign News: ', foreign_news)\n",
    "\n"
   ]
  },
  {
   "cell_type": "markdown",
   "metadata": {},
   "source": [
    "Keeping just the english ones (approx. 90%)"
   ]
  },
  {
   "cell_type": "code",
   "execution_count": 3,
   "metadata": {},
   "outputs": [
    {
     "name": "stdout",
     "output_type": "stream",
     "text": [
      "Total News:  936\n",
      "Italian News:  0\n",
      "English News:  936\n",
      "Foreign News:  0\n"
     ]
    }
   ],
   "source": [
    "\n",
    "for news in df['news']:\n",
    "    if(detect(news) == 'it' or detect(news) != 'en'):\n",
    "        df = df.drop((df.index[df[\"news\"]== news].tolist()))\n",
    " \n",
    "total_news = 0\n",
    "en_news = 0\n",
    "it_news = 0\n",
    "foreign_news = 0\n",
    "\n",
    "for news in df['news']:\n",
    "    if(detect(news) == 'en'):\n",
    "        en_news += 1\n",
    "        total_news += 1\n",
    "    if(detect(news) == 'it'):\n",
    "        it_news += 1\n",
    "        total_news += 1   \n",
    "    if(detect(news) != 'en' and detect(news) != 'it'):\n",
    "        foreign_news += 1\n",
    "        total_news += 1\n",
    "\n",
    "\n",
    "print('Total News: ', total_news )\n",
    "print('Italian News: ', it_news)\n",
    "print('English News: ', en_news)\n",
    "print('Foreign News: ', foreign_news)\n",
    "\n",
    "df.reset_index(drop=True, inplace=True)"
   ]
  },
  {
   "cell_type": "markdown",
   "metadata": {},
   "source": [
    "#### Checking the most common categories to make a 5-top selection ####"
   ]
  },
  {
   "cell_type": "code",
   "execution_count": 247,
   "metadata": {},
   "outputs": [
    {
     "data": {
      "text/plain": [
       "[('NotList', 281),\n",
       " ('OHCHR-Reject', 164),\n",
       " ('Health-Effects', 90),\n",
       " ('RIO_Scope', 40),\n",
       " ('Content-For-DPKR-NorthKorea', 38),\n",
       " ('ET_SportPT', 36),\n",
       " ('Firma_opslag', 34),\n",
       " ('GeneralEconomicKeywords', 30),\n",
       " ('WesternBalkans-Politics2', 28),\n",
       " ('ET_SPORTFR', 26)]"
      ]
     },
     "execution_count": 247,
     "metadata": {},
     "output_type": "execute_result"
    }
   ],
   "source": [
    "#df = df.dropna()\n",
    "#df.reset_index(inplace=True, drop=True)\n",
    "#Counter(\" \".join(df[\"category\"]).split()).most_common(10)\n",
    "#Counter(\" \".join(df[\"category.1\"]).split()).most_common(10)\n",
    "#Counter(\" \".join(df[\"category.2\"]).split()).most_common(10)\n",
    "#Counter(\" \".join(df[\"category.3\"]).split()).most_common(10)\n",
    "#Counter(\" \".join(df[\"category.4\"]).split()).most_common(10)\n",
    "\n",
    "\n"
   ]
  },
  {
   "cell_type": "markdown",
   "metadata": {},
   "source": [
    "#### Define categories for all the news ####\n",
    "Adding a new column where the definitive category will be written."
   ]
  },
  {
   "cell_type": "code",
   "execution_count": 4,
   "metadata": {},
   "outputs": [],
   "source": [
    "df = df.reindex(columns = df.columns.tolist() + [\"cate_def\"])\n"
   ]
  },
  {
   "cell_type": "markdown",
   "metadata": {},
   "source": [
    "Iterate all over the rows to put the most relevant category (from the 5 selected) in the definitive slot. Let's just recap the categories are ordered by importance, from the most important (category) to the least important (category.4), so when the slot is fullfilled is never more touched."
   ]
  },
  {
   "cell_type": "code",
   "execution_count": 5,
   "metadata": {},
   "outputs": [],
   "source": [
    "count = 0\n",
    "\n",
    "for cate0, cate1, cate2, cate3, cate4, catedef in zip(df['category'], df['category.1'], df['category.2'], df['category.3'], df['category.4'], df['cate_def']):\n",
    "    if(cate0 == 'Coronavirus' or cate0 == 'GeneralEconomicKeywords' or cate0 == 'ET_SPORTFR' or cate0 == 'Health-Effects' or cate0 == 'Treatment'):\n",
    "        df.loc[count, 'cate_def'] = cate0\n",
    "    elif((cate1 == 'Coronavirus' or cate1 == 'GeneralEconomicKeywords' or cate1 == 'ET_SPORTFR' or cate1 == 'Health-Effects' or cate1 == 'Treatment') and pd.isna(catedef)):\n",
    "        df.loc[count, 'cate_def'] = cate1\n",
    "    elif((cate2 == 'Coronavirus' or cate2 == 'GeneralEconomicKeywords' or cate2 == 'ET_SPORTFR' or cate2 == 'Health-Effects' or cate2 == 'Treatment')and pd.isna(catedef)):\n",
    "        df.loc[count, 'cate_def'] = cate2\n",
    "    elif((cate3  == 'Coronavirus' or cate3 == 'GeneralEconomicKeywords' or cate3 == 'ET_SPORTFR' or cate3 == 'Health-Effects' or cate3 == 'Treatment')and pd.isna(catedef)):\n",
    "        df.loc[count, 'cate_def'] = cate3\n",
    "    elif((cate4 == 'Coronavirus' or cate4 == 'GeneralEconomicKeywords' or cate4 == 'ET_SPORTFR' or cate4 == 'Health-Effects' or cate4 == 'Treatment') and pd.isna(catedef)):\n",
    "        df.loc[count, 'cate_def'] = cate4\n",
    "    count = count + 1\n"
   ]
  },
  {
   "cell_type": "markdown",
   "metadata": {},
   "source": [
    "Drop all the no more useful column"
   ]
  },
  {
   "cell_type": "code",
   "execution_count": 6,
   "metadata": {},
   "outputs": [],
   "source": [
    "\n",
    "df.drop('category', inplace=True, axis=1)\n",
    "df.drop('category.1', inplace=True, axis=1)\n",
    "df.drop('category.2', inplace=True, axis=1)\n",
    "df.drop('category.3', inplace=True, axis=1)\n",
    "df.drop('category.4', inplace=True, axis=1)\n",
    "\n",
    "df = df[df['cate_def'].notna()]\n",
    "df.reset_index(drop=True, inplace=True)"
   ]
  },
  {
   "cell_type": "markdown",
   "metadata": {},
   "source": [
    "#### Check how the categories are distributed ####"
   ]
  },
  {
   "cell_type": "code",
   "execution_count": 11,
   "metadata": {},
   "outputs": [
    {
     "name": "stdout",
     "output_type": "stream",
     "text": [
      "(731, 4)\n",
      "Economic News :  81\n",
      "CoronaVirus News:  242\n",
      "Sport News:  126\n",
      "Treatment News:  115\n",
      "Health-Effects News:  167\n"
     ]
    },
    {
     "data": {
      "image/png": "[encoded data removed]",
      "text/plain": [
       "<Figure size 720x288 with 1 Axes>"
      ]
     },
     "metadata": {
      "needs_background": "light"
     },
     "output_type": "display_data"
    }
   ],
   "source": [
    "eco_count = 0\n",
    "corona_count = 0\n",
    "sport_count = 0\n",
    "terapy_count = 0\n",
    "health_count = 0\n",
    "\n",
    "for categories in df['cate_def']:\n",
    "    if(categories == 'Coronavirus'):\n",
    "        corona_count += 1\n",
    "    if(categories == 'Health-Effects'):\n",
    "        health_count += 1\n",
    "    if(categories == 'GeneralEconomicKeywords'):\n",
    "        eco_count += 1\n",
    "    if(categories == 'ET_SPORTFR'):\n",
    "        sport_count += 1\n",
    "    if(categories == 'Treatment'):\n",
    "        terapy_count += 1\n",
    "\n",
    "print('Economic News : ',eco_count)\n",
    "print('CoronaVirus News: ', corona_count)\n",
    "print('Sport News: ', sport_count)\n",
    "print('Treatment News: ', terapy_count)\n",
    "print('Health-Effects News: ',  health_count)\n",
    "\n",
    "hist_categories_x = ['Economic', 'Corona', 'Sport', 'Treatment', 'Health']\n",
    "hist_categories_y = [eco_count, corona_count, sport_count, terapy_count, health_count]\n",
    "\n",
    "fig = plt.figure(figsize = (10, 4))\n",
    "\n",
    "plt.bar(hist_categories_x, hist_categories_y, color =['green','red','blue','black','orange'], aa=True, width = 0.3)\n",
    "plt.xlabel(\"Categories\")\n",
    "plt.ylabel(\"No. of news\")\n",
    "plt.show()"
   ]
  }
 ],
 "metadata": {
  "kernelspec": {
   "display_name": "Python 3.7.2 32-bit",
   "language": "python",
   "name": "python3"
  },
  "language_info": {
   "codemirror_mode": {
    "name": "ipython",
    "version": 3
   },
   "file_extension": ".py",
   "mimetype": "text/x-python",
   "name": "python",
   "nbconvert_exporter": "python",
   "pygments_lexer": "ipython3",
   "version": "3.7.2"
  },
  "orig_nbformat": 4,
  "vscode": {
   "interpreter": {
    "hash": "929846737c99e40bdb013e0bb79ec76908e8bd120ea7f1903a75b43b3f842b09"
   }
  }
 },
 "nbformat": 4,
 "nbformat_minor": 2
}
