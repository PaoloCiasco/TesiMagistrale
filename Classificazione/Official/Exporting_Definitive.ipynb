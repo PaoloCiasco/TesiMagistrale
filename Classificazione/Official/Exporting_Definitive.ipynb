{
 "cells": [
  {
   "cell_type": "markdown",
   "metadata": {},
   "source": [
    "# Export Dataset Definitive For NN #"
   ]
  },
  {
   "cell_type": "markdown",
   "metadata": {},
   "source": [
    "#### Libraries Import ####"
   ]
  },
  {
   "cell_type": "code",
   "execution_count": 1,
   "metadata": {},
   "outputs": [],
   "source": [
    "import pandas as pd\n",
    "from langdetect import detect\n",
    "from collections import Counter\n"
   ]
  },
  {
   "cell_type": "markdown",
   "metadata": {},
   "source": [
    "#### Dataset Reading ####"
   ]
  },
  {
   "cell_type": "code",
   "execution_count": 2,
   "metadata": {},
   "outputs": [],
   "source": [
    "df = pd.read_csv(\".csv\", sep='___', engine='python')\n"
   ]
  },
  {
   "cell_type": "markdown",
   "metadata": {},
   "source": [
    "#### Duplicates Drop ####"
   ]
  },
  {
   "cell_type": "code",
   "execution_count": 3,
   "metadata": {},
   "outputs": [],
   "source": [
    "df = df.drop_duplicates(keep=\"first\")"
   ]
  },
  {
   "cell_type": "markdown",
   "metadata": {},
   "source": [
    "#### Keeping the Italian Ones ####"
   ]
  },
  {
   "cell_type": "code",
   "execution_count": 4,
   "metadata": {},
   "outputs": [
    {
     "name": "stdout",
     "output_type": "stream",
     "text": [
      "Total News:  3425\n",
      "Italian News:  3425\n",
      "English News:  0\n",
      "Foreign News:  0\n"
     ]
    }
   ],
   "source": [
    "\n",
    "for news in df['news']:\n",
    "    if(detect(news) == 'en' or detect(news) != 'it'):\n",
    "        df = df.drop((df.index[df[\"news\"]== news].tolist()))\n",
    " \n",
    "total_news = 0\n",
    "en_news = 0\n",
    "it_news = 0\n",
    "foreign_news = 0\n",
    "\n",
    "for news in df['news']:\n",
    "    if(detect(news) == 'en'):\n",
    "        en_news += 1\n",
    "        total_news += 1\n",
    "    if(detect(news) == 'it'):\n",
    "        it_news += 1\n",
    "        total_news += 1   \n",
    "    if(detect(news) != 'en' and detect(news) != 'it'):\n",
    "        foreign_news += 1\n",
    "        total_news += 1\n",
    "\n",
    "\n",
    "print('Total News: ', total_news )\n",
    "print('Italian News: ', it_news)\n",
    "print('English News: ', en_news)\n",
    "print('Foreign News: ', foreign_news)\n",
    "\n",
    "df.reset_index(drop=True, inplace=True)"
   ]
  },
  {
   "cell_type": "markdown",
   "metadata": {},
   "source": [
    "#### Categories Reinstance and Cleaning ####"
   ]
  },
  {
   "cell_type": "code",
   "execution_count": 5,
   "metadata": {},
   "outputs": [],
   "source": [
    "row_count = 0\n",
    "for category in df['category']:\n",
    "    if category == 'Coronavirus - Focolai familiari':\n",
    "        df.loc[row_count, 'category'] = 'Coronavirus - Focolai familiari/amici'\n",
    "    row_count += 1\n",
    "\n"
   ]
  },
  {
   "cell_type": "code",
   "execution_count": 6,
   "metadata": {},
   "outputs": [],
   "source": [
    "row_count = 0\n",
    "for category in df['category']:\n",
    "    if category == 'Coronavirus - Focoali RSA/Case di riposo':\n",
    "        df.loc[row_count, 'category'] = 'Coronavirus - Focolai RSA/Case di riposo'\n",
    "    row_count += 1"
   ]
  },
  {
   "cell_type": "code",
   "execution_count": 7,
   "metadata": {},
   "outputs": [],
   "source": [
    "row_count = 0\n",
    "for category in df['category']:\n",
    "    if category == 'Coronavirus - VARIANTE INGLESE':\n",
    "        df.loc[row_count, 'category'] = 'Coronavirus - VARIANTI'\n",
    "    row_count += 1"
   ]
  },
  {
   "cell_type": "code",
   "execution_count": 8,
   "metadata": {},
   "outputs": [],
   "source": [
    "df.drop(df[df.category == 'Zone Rosse'].index, inplace=True)\n",
    "df.drop(df[df.category == 'Malattie a trasmissione interumana diretta'].index, inplace=True)\n",
    "df.drop(df[df.category == '2019-nCoV'].index, inplace=True)\n",
    "df.drop(df[df.category == 'SARS-CoV-2'].index, inplace=True)\n",
    "df.drop(df[df.category == 'Malattie con altro tipo di trasmissione'].index, inplace=True)\n",
    "df.drop(df[df.category == 'Malattie a trasmissione ambientale'].index, inplace=True)\n",
    "df.drop(df[df.category == 'Malattie a trasmissione oro-fecale'].index, inplace=True)"
   ]
  },
  {
   "cell_type": "markdown",
   "metadata": {},
   "source": [
    "#### File Export ####"
   ]
  },
  {
   "cell_type": "code",
   "execution_count": 9,
   "metadata": {},
   "outputs": [],
   "source": [
    "tsv = df.to_csv(sep='\\1', index=False) # use '\\1' if your data contains tabs\n",
    "psv = tsv.replace('\\1', '___')\n",
    "with open(\".csv\", 'w', encoding='utf-8', newline='\\n') as outfile:\n",
    "    outfile.write(psv)"
   ]
  }
 ],
 "metadata": {
  "kernelspec": {
   "display_name": "Python 3.7.4 64-bit",
   "language": "python",
   "name": "python3"
  },
  "language_info": {
   "codemirror_mode": {
    "name": "ipython",
    "version": 3
   },
   "file_extension": ".py",
   "mimetype": "text/x-python",
   "name": "python",
   "nbconvert_exporter": "python",
   "pygments_lexer": "ipython3",
   "version": "3.7.4"
  },
  "orig_nbformat": 4,
  "vscode": {
   "interpreter": {
    "hash": "cb871571b97a53ab22310acf8bf959de1693e59a900f09eccaf9055d325a6739"
   }
  }
 },
 "nbformat": 4,
 "nbformat_minor": 2
}
