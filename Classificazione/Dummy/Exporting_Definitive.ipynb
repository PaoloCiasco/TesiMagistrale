{
 "cells": [
  {
   "cell_type": "markdown",
   "metadata": {},
   "source": [
    "# Analisi Dataset Dummy #"
   ]
  },
  {
   "cell_type": "markdown",
   "metadata": {},
   "source": [
    "#### Libraries Import ####"
   ]
  },
  {
   "cell_type": "code",
   "execution_count": 34,
   "metadata": {},
   "outputs": [
    {
     "name": "stderr",
     "output_type": "stream",
     "text": [
      "[nltk_data] Downloading package stopwords to\n",
      "[nltk_data]     C:\\Users\\Paolo\\AppData\\Roaming\\nltk_data...\n",
      "[nltk_data]   Package stopwords is already up-to-date!\n",
      "[nltk_data] Downloading package wordnet to\n",
      "[nltk_data]     C:\\Users\\Paolo\\AppData\\Roaming\\nltk_data...\n",
      "[nltk_data]   Package wordnet is already up-to-date!\n",
      "[nltk_data] Downloading package punkt to\n",
      "[nltk_data]     C:\\Users\\Paolo\\AppData\\Roaming\\nltk_data...\n",
      "[nltk_data]   Package punkt is already up-to-date!\n",
      "[nltk_data] Downloading package omw-1.4 to\n",
      "[nltk_data]     C:\\Users\\Paolo\\AppData\\Roaming\\nltk_data...\n",
      "[nltk_data]   Package omw-1.4 is already up-to-date!\n"
     ]
    }
   ],
   "source": [
    "import pandas as pd\n",
    "from langdetect import detect\n",
    "from IPython.display import display\n",
    "from collections import Counter\n",
    "import matplotlib.pyplot as plt\n",
    "import numpy as np\n",
    "import re\n",
    "from numpy import mean\n",
    "from sklearn import metrics\n",
    "\n",
    "\n",
    "import nltk\n",
    "from nltk.corpus import stopwords\n",
    "nltk.download('stopwords')\n",
    "from nltk.stem import PorterStemmer\n",
    "from nltk.stem import WordNetLemmatizer\n",
    "nltk.download('wordnet')\n",
    "from nltk.tokenize import word_tokenize\n",
    "from nltk.tokenize import sent_tokenize\n",
    "nltk.download('punkt')\n",
    "nltk.download('omw-1.4')\n",
    "\n",
    "from sklearn.model_selection import LeaveOneOut\n",
    "from sklearn.model_selection import cross_val_score\n",
    "from sklearn.model_selection import cross_val_predict\n",
    "from sklearn.model_selection import KFold\n",
    "from sklearn.model_selection import cross_validate\n",
    "from sklearn.preprocessing import label_binarize\n",
    "from sklearn.model_selection import train_test_split\n",
    "\n",
    "\n",
    "\n",
    "\n",
    "from sklearn.metrics import accuracy_score\n",
    "from sklearn.model_selection import GridSearchCV\n",
    "\n",
    "from sklearn.metrics import confusion_matrix\n",
    "from sklearn.metrics import classification_report\n",
    "from sklearn.metrics import make_scorer, roc_curve, roc_auc_score\n",
    "from sklearn.metrics import precision_recall_fscore_support as score\n",
    "from sklearn.metrics.pairwise import cosine_similarity\n",
    "from sklearn.multiclass import OneVsRestClassifier\n",
    "from sklearn.linear_model import LogisticRegression\n",
    "from sklearn.svm import SVC, LinearSVC\n",
    "from sklearn.tree import DecisionTreeClassifier\n",
    "from sklearn.ensemble import RandomForestClassifier\n",
    "from sklearn.neighbors import KNeighborsClassifier\n",
    "from sklearn.ensemble import GradientBoostingClassifier\n",
    "\n",
    "from sklearn.naive_bayes import GaussianNB,MultinomialNB,BernoulliNB"
   ]
  },
  {
   "cell_type": "markdown",
   "metadata": {},
   "source": [
    "#### DataSet Reading ####"
   ]
  },
  {
   "cell_type": "code",
   "execution_count": 35,
   "metadata": {},
   "outputs": [],
   "source": [
    "df = pd.read_csv(\"C:/Users/Paolo/OneDrive - Universita' degli Studi di Roma Tor Vergata/Laurea Magistrale/Tesi/Codice/2.Classificazione/Dummy/Data/data_dummy.csv\", sep='___', engine='python')\n"
   ]
  },
  {
   "cell_type": "markdown",
   "metadata": {},
   "source": [
    "#### Check language of the news ####"
   ]
  },
  {
   "cell_type": "code",
   "execution_count": 4,
   "metadata": {},
   "outputs": [
    {
     "name": "stdout",
     "output_type": "stream",
     "text": [
      "Total News:  1034\n",
      "Italian News:  74\n",
      "English News:  936\n",
      "Foreign News:  24\n"
     ]
    }
   ],
   "source": [
    "\n",
    "total_news = 0\n",
    "en_news = 0\n",
    "it_news = 0\n",
    "foreign_news = 0\n",
    "\n",
    "\n",
    "for news in df['news']:\n",
    "    if(detect(news) == 'en'):\n",
    "        en_news += 1\n",
    "        total_news += 1\n",
    "    if(detect(news) == 'it'):\n",
    "        it_news += 1\n",
    "        total_news += 1   \n",
    "    if(detect(news) != 'en' and detect(news) != 'it'):\n",
    "        foreign_news += 1\n",
    "        total_news += 1\n",
    "\n",
    "\n",
    "print('Total News: ', total_news )\n",
    "print('Italian News: ', it_news)\n",
    "print('English News: ', en_news)\n",
    "print('Foreign News: ', foreign_news)\n",
    "\n"
   ]
  },
  {
   "cell_type": "markdown",
   "metadata": {},
   "source": [
    "Keeping just the english ones (approx. 90%)"
   ]
  },
  {
   "cell_type": "code",
   "execution_count": 36,
   "metadata": {},
   "outputs": [
    {
     "name": "stdout",
     "output_type": "stream",
     "text": [
      "Total News:  936\n",
      "Italian News:  0\n",
      "English News:  936\n",
      "Foreign News:  0\n"
     ]
    }
   ],
   "source": [
    "\n",
    "for news in df['news']:\n",
    "    if(detect(news) == 'it' or detect(news) != 'en'):\n",
    "        df = df.drop((df.index[df[\"news\"]== news].tolist()))\n",
    " \n",
    "total_news = 0\n",
    "en_news = 0\n",
    "it_news = 0\n",
    "foreign_news = 0\n",
    "\n",
    "for news in df['news']:\n",
    "    if(detect(news) == 'en'):\n",
    "        en_news += 1\n",
    "        total_news += 1\n",
    "    if(detect(news) == 'it'):\n",
    "        it_news += 1\n",
    "        total_news += 1   \n",
    "    if(detect(news) != 'en' and detect(news) != 'it'):\n",
    "        foreign_news += 1\n",
    "        total_news += 1\n",
    "\n",
    "\n",
    "print('Total News: ', total_news )\n",
    "print('Italian News: ', it_news)\n",
    "print('English News: ', en_news)\n",
    "print('Foreign News: ', foreign_news)\n",
    "\n",
    "df.reset_index(drop=True, inplace=True)"
   ]
  },
  {
   "cell_type": "markdown",
   "metadata": {},
   "source": [
    "#### Checking the most common categories to make a 5-top selection ####"
   ]
  },
  {
   "cell_type": "code",
   "execution_count": 247,
   "metadata": {},
   "outputs": [
    {
     "data": {
      "text/plain": [
       "[('NotList', 281),\n",
       " ('OHCHR-Reject', 164),\n",
       " ('Health-Effects', 90),\n",
       " ('RIO_Scope', 40),\n",
       " ('Content-For-DPKR-NorthKorea', 38),\n",
       " ('ET_SportPT', 36),\n",
       " ('Firma_opslag', 34),\n",
       " ('GeneralEconomicKeywords', 30),\n",
       " ('WesternBalkans-Politics2', 28),\n",
       " ('ET_SPORTFR', 26)]"
      ]
     },
     "execution_count": 247,
     "metadata": {},
     "output_type": "execute_result"
    }
   ],
   "source": [
    "#df = df.dropna()\n",
    "#df.reset_index(inplace=True, drop=True)\n",
    "#Counter(\" \".join(df[\"category\"]).split()).most_common(10)\n",
    "#Counter(\" \".join(df[\"category.1\"]).split()).most_common(10)\n",
    "#Counter(\" \".join(df[\"category.2\"]).split()).most_common(10)\n",
    "#Counter(\" \".join(df[\"category.3\"]).split()).most_common(10)\n",
    "#Counter(\" \".join(df[\"category.4\"]).split()).most_common(10)\n",
    "\n",
    "\n"
   ]
  },
  {
   "cell_type": "markdown",
   "metadata": {},
   "source": [
    "#### Define categories for all the news ####\n",
    "Adding a new column where the definitive category will be written."
   ]
  },
  {
   "cell_type": "code",
   "execution_count": 37,
   "metadata": {},
   "outputs": [],
   "source": [
    "df = df.reindex(columns = df.columns.tolist() + [\"cate_def\"])\n"
   ]
  },
  {
   "cell_type": "markdown",
   "metadata": {},
   "source": [
    "Iterate all over the rows to put the most relevant category (from the 5 selected) in the definitive slot. Let's just recap the categories are ordered by importance, from the most important (category) to the least important (category.4), so when the slot is fullfilled is never more touched."
   ]
  },
  {
   "cell_type": "code",
   "execution_count": 38,
   "metadata": {},
   "outputs": [],
   "source": [
    "count = 0\n",
    "\n",
    "for cate0, cate1, cate2, cate3, cate4, catedef in zip(df['category'], df['category.1'], df['category.2'], df['category.3'], df['category.4'], df['cate_def']):\n",
    "    if(cate0 == 'Coronavirus' or cate0 == 'GeneralEconomicKeywords' or cate0 == 'ET_SPORTFR' or cate0 == 'Health-Effects' or cate0 == 'Treatment'):\n",
    "        df.loc[count, 'cate_def'] = cate0\n",
    "    elif((cate1 == 'Coronavirus' or cate1 == 'GeneralEconomicKeywords' or cate1 == 'ET_SPORTFR' or cate1 == 'Health-Effects' or cate1 == 'Treatment') and pd.isna(catedef)):\n",
    "        df.loc[count, 'cate_def'] = cate1\n",
    "    elif((cate2 == 'Coronavirus' or cate2 == 'GeneralEconomicKeywords' or cate2 == 'ET_SPORTFR' or cate2 == 'Health-Effects' or cate2 == 'Treatment')and pd.isna(catedef)):\n",
    "        df.loc[count, 'cate_def'] = cate2\n",
    "    elif((cate3  == 'Coronavirus' or cate3 == 'GeneralEconomicKeywords' or cate3 == 'ET_SPORTFR' or cate3 == 'Health-Effects' or cate3 == 'Treatment')and pd.isna(catedef)):\n",
    "        df.loc[count, 'cate_def'] = cate3\n",
    "    elif((cate4 == 'Coronavirus' or cate4 == 'GeneralEconomicKeywords' or cate4 == 'ET_SPORTFR' or cate4 == 'Health-Effects' or cate4 == 'Treatment') and pd.isna(catedef)):\n",
    "        df.loc[count, 'cate_def'] = cate4\n",
    "    count = count + 1\n"
   ]
  },
  {
   "cell_type": "markdown",
   "metadata": {},
   "source": [
    "Drop all the no more useful column"
   ]
  },
  {
   "cell_type": "code",
   "execution_count": 39,
   "metadata": {},
   "outputs": [],
   "source": [
    "\n",
    "df.drop('category', inplace=True, axis=1)\n",
    "df.drop('category.1', inplace=True, axis=1)\n",
    "df.drop('category.2', inplace=True, axis=1)\n",
    "df.drop('category.3', inplace=True, axis=1)\n",
    "df.drop('category.4', inplace=True, axis=1)\n",
    "\n",
    "df = df[df['cate_def'].notna()]\n",
    "df.reset_index(drop=True, inplace=True)"
   ]
  },
  {
   "cell_type": "markdown",
   "metadata": {},
   "source": [
    "### Export ###"
   ]
  },
  {
   "cell_type": "code",
   "execution_count": 40,
   "metadata": {},
   "outputs": [
    {
     "data": {
      "text/html": [
       "<div>\n",
       "<style scoped>\n",
       "    .dataframe tbody tr th:only-of-type {\n",
       "        vertical-align: middle;\n",
       "    }\n",
       "\n",
       "    .dataframe tbody tr th {\n",
       "        vertical-align: top;\n",
       "    }\n",
       "\n",
       "    .dataframe thead th {\n",
       "        text-align: right;\n",
       "    }\n",
       "</style>\n",
       "<table border=\"1\" class=\"dataframe\">\n",
       "  <thead>\n",
       "    <tr style=\"text-align: right;\">\n",
       "      <th></th>\n",
       "      <th>title</th>\n",
       "      <th>source</th>\n",
       "      <th>news</th>\n",
       "      <th>category</th>\n",
       "      <th>category_id</th>\n",
       "    </tr>\n",
       "  </thead>\n",
       "  <tbody>\n",
       "    <tr>\n",
       "      <th>0</th>\n",
       "      <td>3.6m indirect jobs created through $1.1bn externally funded projects –FG</td>\n",
       "      <td>https://www.sunnewsonline.com/3-6m-indirect-jobs-created-through-1-1bn-externally-funded-projects-fg/</td>\n",
       "      <td>The Federal Government has said about 3.6 million indirect jobs have been created from $1.113 billion (about N461.9 billion) worth of externally funded projects being implemented by the present administration. Minister of Agriculture, Mohammed Abubakar, made the disclosure while appearing on a....</td>\n",
       "      <td>GeneralEconomicKeywords</td>\n",
       "      <td>0</td>\n",
       "    </tr>\n",
       "    <tr>\n",
       "      <th>1</th>\n",
       "      <td>Merrifield says he's vaccinated, ready to play for Blue Jays</td>\n",
       "      <td>https://www.taiwannews.com.tw/en/news/4616894</td>\n",
       "      <td>MINNEAPOLIS (AP) — Whit Merrifield said Thursday he is vaccinated for COVID-19 and will be cleared to play for Toronto when the Blue Jays return to Canada. Merrifield was acquired in a trade with Kansas City on Tuesday for two minor leaguers. The two-time All-Star was in the starting lineup in....</td>\n",
       "      <td>Treatment</td>\n",
       "      <td>1</td>\n",
       "    </tr>\n",
       "    <tr>\n",
       "      <th>2</th>\n",
       "      <td>Steelers, WR Diontae Johnson agree to 3-year deal</td>\n",
       "      <td>https://www.taiwannews.com.tw/en/news/4616770</td>\n",
       "      <td>LATROBE, Pa. (AP) — Diontae Johnson watched the wide receiver market explode during the offseason. The dollar amounts were so staggering they were impossible for Johnson to ignore as he entered contract negotiations with the Pittsburgh Steelers. “You see the numbers,” Johnson said. “But I wasn’t trying to look at everybody’s pockets.</td>\n",
       "      <td>ET_SPORTFR</td>\n",
       "      <td>2</td>\n",
       "    </tr>\n",
       "    <tr>\n",
       "      <th>3</th>\n",
       "      <td>N.Korea marks end of first COVID wave, but risks persist By Hyonhee Shin and Soo-hyang Choi SEOUL (Reuters) - North Korea on Friday said all of its fever patients have recovered, marking the end of its first... 55m ago</td>\n",
       "      <td>https://kelo.com/2022/08/04/n-korea-marks-end-of-first-covid-wave-but-risks-persist/</td>\n",
       "      <td>By Hyonhee Shin and Soo-hyang Choi. SEOUL (Reuters) – North Korea on Friday said all of its fever patients have recovered, marking the end of its first wave of the coronavirus pandemic, but challenges linger with economic hardships deepening and an unvaccinated population exposed to future resurgences, analysts said.</td>\n",
       "      <td>Coronavirus</td>\n",
       "      <td>3</td>\n",
       "    </tr>\n",
       "    <tr>\n",
       "      <th>4</th>\n",
       "      <td>Novak Djokovic social media row erupts Australian tennis…</td>\n",
       "      <td>https://samacharcentral.com/novak-djokovic-social-media-row-erupts-australian-tennis-star-feels-heat-for-backing-serb-tennis-sport/</td>\n",
       "      <td>Australian tennis star John Millman has questioned on Twitter why Novak Djokovic cannot participate in the US Open later this month after he himself caught Covid in the country. However, he was forced to bat away the backlash with several follow-up tweets.</td>\n",
       "      <td>ET_SPORTFR</td>\n",
       "      <td>2</td>\n",
       "    </tr>\n",
       "  </tbody>\n",
       "</table>\n",
       "</div>"
      ],
      "text/plain": [
       "                                                                                                                                                                                                                        title  \\\n",
       "0                                                                                                                                                    3.6m indirect jobs created through $1.1bn externally funded projects –FG   \n",
       "1                                                                                                                                                                Merrifield says he's vaccinated, ready to play for Blue Jays   \n",
       "2                                                                                                                                                                           Steelers, WR Diontae Johnson agree to 3-year deal   \n",
       "3  N.Korea marks end of first COVID wave, but risks persist By Hyonhee Shin and Soo-hyang Choi SEOUL (Reuters) - North Korea on Friday said all of its fever patients have recovered, marking the end of its first... 55m ago   \n",
       "4                                                                                                                                                                   Novak Djokovic social media row erupts Australian tennis…   \n",
       "\n",
       "                                                                                                                                source  \\\n",
       "0                                https://www.sunnewsonline.com/3-6m-indirect-jobs-created-through-1-1bn-externally-funded-projects-fg/   \n",
       "1                                                                                        https://www.taiwannews.com.tw/en/news/4616894   \n",
       "2                                                                                        https://www.taiwannews.com.tw/en/news/4616770   \n",
       "3                                                 https://kelo.com/2022/08/04/n-korea-marks-end-of-first-covid-wave-but-risks-persist/   \n",
       "4  https://samacharcentral.com/novak-djokovic-social-media-row-erupts-australian-tennis-star-feels-heat-for-backing-serb-tennis-sport/   \n",
       "\n",
       "                                                                                                                                                                                                                                                                                                                                              news  \\\n",
       "0                                       The Federal Government has said about 3.6 million indirect jobs have been created from $1.113 billion (about N461.9 billion) worth of externally funded projects being implemented by the present administration. Minister of Agriculture, Mohammed Abubakar, made the disclosure while appearing on a....   \n",
       "1                                       MINNEAPOLIS (AP) — Whit Merrifield said Thursday he is vaccinated for COVID-19 and will be cleared to play for Toronto when the Blue Jays return to Canada. Merrifield was acquired in a trade with Kansas City on Tuesday for two minor leaguers. The two-time All-Star was in the starting lineup in....   \n",
       "2  LATROBE, Pa. (AP) — Diontae Johnson watched the wide receiver market explode during the offseason. The dollar amounts were so staggering they were impossible for Johnson to ignore as he entered contract negotiations with the Pittsburgh Steelers. “You see the numbers,” Johnson said. “But I wasn’t trying to look at everybody’s pockets.   \n",
       "3                   By Hyonhee Shin and Soo-hyang Choi. SEOUL (Reuters) – North Korea on Friday said all of its fever patients have recovered, marking the end of its first wave of the coronavirus pandemic, but challenges linger with economic hardships deepening and an unvaccinated population exposed to future resurgences, analysts said.   \n",
       "4                                                                                 Australian tennis star John Millman has questioned on Twitter why Novak Djokovic cannot participate in the US Open later this month after he himself caught Covid in the country. However, he was forced to bat away the backlash with several follow-up tweets.   \n",
       "\n",
       "                  category  category_id  \n",
       "0  GeneralEconomicKeywords            0  \n",
       "1                Treatment            1  \n",
       "2               ET_SPORTFR            2  \n",
       "3              Coronavirus            3  \n",
       "4               ET_SPORTFR            2  "
      ]
     },
     "execution_count": 40,
     "metadata": {},
     "output_type": "execute_result"
    }
   ],
   "source": [
    "df.rename(columns = {'cate_def':'category'}, inplace = True)\n",
    "\n",
    "df['category_id'] = df['category'].factorize()[0]\n",
    "df.head()\n"
   ]
  },
  {
   "cell_type": "code",
   "execution_count": 41,
   "metadata": {},
   "outputs": [],
   "source": [
    "tsv = df.to_csv(sep='\\1', index=False) # use '\\1' if your data contains tabs\n",
    "psv = tsv.replace('\\1', '___')\n",
    "with open(\"C:/Users/Paolo/OneDrive - Universita' degli Studi di Roma Tor Vergata/Laurea Magistrale/Tesi/Codice/2.Classificazione/Dummy/Data/data_dummy_cleaned_for_nn.csv\", 'w', encoding='utf-8', newline='\\n') as outfile:\n",
    "    outfile.write(psv)"
   ]
  }
 ],
 "metadata": {
  "kernelspec": {
   "display_name": "Python 3.7.2 32-bit",
   "language": "python",
   "name": "python3"
  },
  "language_info": {
   "codemirror_mode": {
    "name": "ipython",
    "version": 3
   },
   "file_extension": ".py",
   "mimetype": "text/x-python",
   "name": "python",
   "nbconvert_exporter": "python",
   "pygments_lexer": "ipython3",
   "version": "3.7.2"
  },
  "orig_nbformat": 4,
  "vscode": {
   "interpreter": {
    "hash": "929846737c99e40bdb013e0bb79ec76908e8bd120ea7f1903a75b43b3f842b09"
   }
  }
 },
 "nbformat": 4,
 "nbformat_minor": 2
}
